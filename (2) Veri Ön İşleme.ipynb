{
 "cells": [
  {
   "cell_type": "markdown",
   "id": "60a7ada6",
   "metadata": {},
   "source": [
    "## Veri Ön İşleme\n",
    "\n",
    "- Genel olarak, doğrudan bir kaynaktan gelen veri seti hamdır, yani tutarsızlıklar, yanlış yazılmış değerler, NA değerleri vb.\n",
    "\n",
    "- Bu gibi durumlarda, modeli daha sonraki adımlarda eğitmeden önce veri ön işleme uygulamak bir zorunluluktur.\n",
    "\n",
    "- Bir veri kümesini iyileştirme yöntemleri, birkaçını saymak gerekirse, genellikle bazı kayıtları atmayı ve bunları anlamlı değerlerle değiştirmeyi içerir.\n",
    "\n",
    "- Veri ön işleme adımlarına daha derinlemesine bakalım"
   ]
  },
  {
   "cell_type": "code",
   "execution_count": 1,
   "id": "36d4df6c",
   "metadata": {},
   "outputs": [],
   "source": [
    "import pandas as pd\n",
    "import numpy as np\n",
    "import seaborn as sns\n",
    "sns.set(rc={'figure.figsize':(20, 10)})"
   ]
  },
  {
   "cell_type": "markdown",
   "id": "cec29ba1",
   "metadata": {},
   "source": [
    "### DataFrame'i Yükleme ve İnceleme\n",
    "\n",
    "- Veri setini yükledikten sonra, değerlerin daha iyi anlaşılması için sütunlarla ilgili basit istatistikler elde etmek çok önemlidir."
   ]
  },
  {
   "cell_type": "code",
   "execution_count": 2,
   "id": "f5dafa3b",
   "metadata": {},
   "outputs": [],
   "source": [
    "df = pd.read_csv(\"AB_NYC_2019.csv\")"
   ]
  },
  {
   "cell_type": "code",
   "execution_count": 3,
   "id": "b6d947a2",
   "metadata": {},
   "outputs": [
    {
     "data": {
      "text/html": [
       "<div>\n",
       "<style scoped>\n",
       "    .dataframe tbody tr th:only-of-type {\n",
       "        vertical-align: middle;\n",
       "    }\n",
       "\n",
       "    .dataframe tbody tr th {\n",
       "        vertical-align: top;\n",
       "    }\n",
       "\n",
       "    .dataframe thead th {\n",
       "        text-align: right;\n",
       "    }\n",
       "</style>\n",
       "<table border=\"1\" class=\"dataframe\">\n",
       "  <thead>\n",
       "    <tr style=\"text-align: right;\">\n",
       "      <th></th>\n",
       "      <th>id</th>\n",
       "      <th>name</th>\n",
       "      <th>host_id</th>\n",
       "      <th>host_name</th>\n",
       "      <th>neighbourhood_group</th>\n",
       "      <th>neighbourhood</th>\n",
       "      <th>latitude</th>\n",
       "      <th>longitude</th>\n",
       "      <th>room_type</th>\n",
       "      <th>price</th>\n",
       "      <th>minimum_nights</th>\n",
       "      <th>number_of_reviews</th>\n",
       "      <th>last_review</th>\n",
       "      <th>reviews_per_month</th>\n",
       "      <th>calculated_host_listings_count</th>\n",
       "      <th>availability_365</th>\n",
       "    </tr>\n",
       "  </thead>\n",
       "  <tbody>\n",
       "    <tr>\n",
       "      <th>0</th>\n",
       "      <td>2539</td>\n",
       "      <td>Clean &amp; quiet apt home by the park</td>\n",
       "      <td>2787</td>\n",
       "      <td>John</td>\n",
       "      <td>Brooklyn</td>\n",
       "      <td>Kensington</td>\n",
       "      <td>40.64749</td>\n",
       "      <td>-73.97237</td>\n",
       "      <td>Private room</td>\n",
       "      <td>149</td>\n",
       "      <td>1</td>\n",
       "      <td>9</td>\n",
       "      <td>2018-10-19</td>\n",
       "      <td>0.21</td>\n",
       "      <td>6</td>\n",
       "      <td>365</td>\n",
       "    </tr>\n",
       "    <tr>\n",
       "      <th>1</th>\n",
       "      <td>2595</td>\n",
       "      <td>Skylit Midtown Castle</td>\n",
       "      <td>2845</td>\n",
       "      <td>Jennifer</td>\n",
       "      <td>Manhattan</td>\n",
       "      <td>Midtown</td>\n",
       "      <td>40.75362</td>\n",
       "      <td>-73.98377</td>\n",
       "      <td>Entire home/apt</td>\n",
       "      <td>225</td>\n",
       "      <td>1</td>\n",
       "      <td>45</td>\n",
       "      <td>2019-05-21</td>\n",
       "      <td>0.38</td>\n",
       "      <td>2</td>\n",
       "      <td>355</td>\n",
       "    </tr>\n",
       "    <tr>\n",
       "      <th>2</th>\n",
       "      <td>3647</td>\n",
       "      <td>THE VILLAGE OF HARLEM....NEW YORK !</td>\n",
       "      <td>4632</td>\n",
       "      <td>Elisabeth</td>\n",
       "      <td>Manhattan</td>\n",
       "      <td>Harlem</td>\n",
       "      <td>40.80902</td>\n",
       "      <td>-73.94190</td>\n",
       "      <td>Private room</td>\n",
       "      <td>150</td>\n",
       "      <td>3</td>\n",
       "      <td>0</td>\n",
       "      <td>NaN</td>\n",
       "      <td>NaN</td>\n",
       "      <td>1</td>\n",
       "      <td>365</td>\n",
       "    </tr>\n",
       "    <tr>\n",
       "      <th>3</th>\n",
       "      <td>3831</td>\n",
       "      <td>Cozy Entire Floor of Brownstone</td>\n",
       "      <td>4869</td>\n",
       "      <td>LisaRoxanne</td>\n",
       "      <td>Brooklyn</td>\n",
       "      <td>Clinton Hill</td>\n",
       "      <td>40.68514</td>\n",
       "      <td>-73.95976</td>\n",
       "      <td>Entire home/apt</td>\n",
       "      <td>89</td>\n",
       "      <td>1</td>\n",
       "      <td>270</td>\n",
       "      <td>2019-07-05</td>\n",
       "      <td>4.64</td>\n",
       "      <td>1</td>\n",
       "      <td>194</td>\n",
       "    </tr>\n",
       "    <tr>\n",
       "      <th>4</th>\n",
       "      <td>5022</td>\n",
       "      <td>Entire Apt: Spacious Studio/Loft by central park</td>\n",
       "      <td>7192</td>\n",
       "      <td>Laura</td>\n",
       "      <td>Manhattan</td>\n",
       "      <td>East Harlem</td>\n",
       "      <td>40.79851</td>\n",
       "      <td>-73.94399</td>\n",
       "      <td>Entire home/apt</td>\n",
       "      <td>80</td>\n",
       "      <td>10</td>\n",
       "      <td>9</td>\n",
       "      <td>2018-11-19</td>\n",
       "      <td>0.10</td>\n",
       "      <td>1</td>\n",
       "      <td>0</td>\n",
       "    </tr>\n",
       "  </tbody>\n",
       "</table>\n",
       "</div>"
      ],
      "text/plain": [
       "     id                                              name  host_id  \\\n",
       "0  2539                Clean & quiet apt home by the park     2787   \n",
       "1  2595                             Skylit Midtown Castle     2845   \n",
       "2  3647               THE VILLAGE OF HARLEM....NEW YORK !     4632   \n",
       "3  3831                   Cozy Entire Floor of Brownstone     4869   \n",
       "4  5022  Entire Apt: Spacious Studio/Loft by central park     7192   \n",
       "\n",
       "     host_name neighbourhood_group neighbourhood  latitude  longitude  \\\n",
       "0         John            Brooklyn    Kensington  40.64749  -73.97237   \n",
       "1     Jennifer           Manhattan       Midtown  40.75362  -73.98377   \n",
       "2    Elisabeth           Manhattan        Harlem  40.80902  -73.94190   \n",
       "3  LisaRoxanne            Brooklyn  Clinton Hill  40.68514  -73.95976   \n",
       "4        Laura           Manhattan   East Harlem  40.79851  -73.94399   \n",
       "\n",
       "         room_type  price  minimum_nights  number_of_reviews last_review  \\\n",
       "0     Private room    149               1                  9  2018-10-19   \n",
       "1  Entire home/apt    225               1                 45  2019-05-21   \n",
       "2     Private room    150               3                  0         NaN   \n",
       "3  Entire home/apt     89               1                270  2019-07-05   \n",
       "4  Entire home/apt     80              10                  9  2018-11-19   \n",
       "\n",
       "   reviews_per_month  calculated_host_listings_count  availability_365  \n",
       "0               0.21                               6               365  \n",
       "1               0.38                               2               355  \n",
       "2                NaN                               1               365  \n",
       "3               4.64                               1               194  \n",
       "4               0.10                               1                 0  "
      ]
     },
     "execution_count": 3,
     "metadata": {},
     "output_type": "execute_result"
    }
   ],
   "source": [
    "df.head()"
   ]
  },
  {
   "cell_type": "code",
   "execution_count": 4,
   "id": "a550cabb",
   "metadata": {},
   "outputs": [
    {
     "data": {
      "text/plain": [
       "(48895, 16)"
      ]
     },
     "execution_count": 4,
     "metadata": {},
     "output_type": "execute_result"
    }
   ],
   "source": [
    "df.shape"
   ]
  },
  {
   "cell_type": "code",
   "execution_count": 5,
   "id": "e678df00",
   "metadata": {},
   "outputs": [
    {
     "data": {
      "text/plain": [
       "782320"
      ]
     },
     "execution_count": 5,
     "metadata": {},
     "output_type": "execute_result"
    }
   ],
   "source": [
    "df.size"
   ]
  },
  {
   "cell_type": "code",
   "execution_count": 6,
   "id": "ecefe83b",
   "metadata": {},
   "outputs": [
    {
     "data": {
      "text/plain": [
       "Index(['id', 'name', 'host_id', 'host_name', 'neighbourhood_group',\n",
       "       'neighbourhood', 'latitude', 'longitude', 'room_type', 'price',\n",
       "       'minimum_nights', 'number_of_reviews', 'last_review',\n",
       "       'reviews_per_month', 'calculated_host_listings_count',\n",
       "       'availability_365'],\n",
       "      dtype='object')"
      ]
     },
     "execution_count": 6,
     "metadata": {},
     "output_type": "execute_result"
    }
   ],
   "source": [
    "df.columns"
   ]
  },
  {
   "cell_type": "code",
   "execution_count": 7,
   "id": "522a493e",
   "metadata": {},
   "outputs": [
    {
     "name": "stdout",
     "output_type": "stream",
     "text": [
      "<class 'pandas.core.frame.DataFrame'>\n",
      "RangeIndex: 48895 entries, 0 to 48894\n",
      "Data columns (total 16 columns):\n",
      " #   Column                          Non-Null Count  Dtype  \n",
      "---  ------                          --------------  -----  \n",
      " 0   id                              48895 non-null  int64  \n",
      " 1   name                            48879 non-null  object \n",
      " 2   host_id                         48895 non-null  int64  \n",
      " 3   host_name                       48874 non-null  object \n",
      " 4   neighbourhood_group             48895 non-null  object \n",
      " 5   neighbourhood                   48895 non-null  object \n",
      " 6   latitude                        48895 non-null  float64\n",
      " 7   longitude                       48895 non-null  float64\n",
      " 8   room_type                       48895 non-null  object \n",
      " 9   price                           48895 non-null  int64  \n",
      " 10  minimum_nights                  48895 non-null  int64  \n",
      " 11  number_of_reviews               48895 non-null  int64  \n",
      " 12  last_review                     38843 non-null  object \n",
      " 13  reviews_per_month               38843 non-null  float64\n",
      " 14  calculated_host_listings_count  48895 non-null  int64  \n",
      " 15  availability_365                48895 non-null  int64  \n",
      "dtypes: float64(3), int64(7), object(6)\n",
      "memory usage: 6.0+ MB\n"
     ]
    }
   ],
   "source": [
    "df.info()"
   ]
  },
  {
   "cell_type": "markdown",
   "id": "f01343fb",
   "metadata": {},
   "source": [
    "### Kullanılmayan Sütunları Bırakma\n",
    "\n",
    "- Makine öğrenimi modeli eğitimi sırasında bir sütun kullanılmayacaksa, bu sütunların kaldırılması yararlı olacaktır.\n",
    "\n",
    "- Bu tür sütunları bırakmak, veri kümesinin boyutunu küçültecek ve bu nedenle bellekten tasarruf sağlayacaktır."
   ]
  },
  {
   "cell_type": "code",
   "execution_count": 9,
   "id": "31d4824d",
   "metadata": {},
   "outputs": [
    {
     "data": {
      "text/html": [
       "<div>\n",
       "<style scoped>\n",
       "    .dataframe tbody tr th:only-of-type {\n",
       "        vertical-align: middle;\n",
       "    }\n",
       "\n",
       "    .dataframe tbody tr th {\n",
       "        vertical-align: top;\n",
       "    }\n",
       "\n",
       "    .dataframe thead th {\n",
       "        text-align: right;\n",
       "    }\n",
       "</style>\n",
       "<table border=\"1\" class=\"dataframe\">\n",
       "  <thead>\n",
       "    <tr style=\"text-align: right;\">\n",
       "      <th></th>\n",
       "      <th>neighbourhood_group</th>\n",
       "      <th>neighbourhood</th>\n",
       "      <th>latitude</th>\n",
       "      <th>longitude</th>\n",
       "      <th>room_type</th>\n",
       "      <th>price</th>\n",
       "      <th>minimum_nights</th>\n",
       "      <th>number_of_reviews</th>\n",
       "      <th>last_review</th>\n",
       "      <th>reviews_per_month</th>\n",
       "      <th>calculated_host_listings_count</th>\n",
       "      <th>availability_365</th>\n",
       "    </tr>\n",
       "  </thead>\n",
       "  <tbody>\n",
       "    <tr>\n",
       "      <th>0</th>\n",
       "      <td>Brooklyn</td>\n",
       "      <td>Kensington</td>\n",
       "      <td>40.64749</td>\n",
       "      <td>-73.97237</td>\n",
       "      <td>Private room</td>\n",
       "      <td>149</td>\n",
       "      <td>1</td>\n",
       "      <td>9</td>\n",
       "      <td>2018-10-19</td>\n",
       "      <td>0.21</td>\n",
       "      <td>6</td>\n",
       "      <td>365</td>\n",
       "    </tr>\n",
       "    <tr>\n",
       "      <th>1</th>\n",
       "      <td>Manhattan</td>\n",
       "      <td>Midtown</td>\n",
       "      <td>40.75362</td>\n",
       "      <td>-73.98377</td>\n",
       "      <td>Entire home/apt</td>\n",
       "      <td>225</td>\n",
       "      <td>1</td>\n",
       "      <td>45</td>\n",
       "      <td>2019-05-21</td>\n",
       "      <td>0.38</td>\n",
       "      <td>2</td>\n",
       "      <td>355</td>\n",
       "    </tr>\n",
       "    <tr>\n",
       "      <th>2</th>\n",
       "      <td>Manhattan</td>\n",
       "      <td>Harlem</td>\n",
       "      <td>40.80902</td>\n",
       "      <td>-73.94190</td>\n",
       "      <td>Private room</td>\n",
       "      <td>150</td>\n",
       "      <td>3</td>\n",
       "      <td>0</td>\n",
       "      <td>NaN</td>\n",
       "      <td>NaN</td>\n",
       "      <td>1</td>\n",
       "      <td>365</td>\n",
       "    </tr>\n",
       "    <tr>\n",
       "      <th>3</th>\n",
       "      <td>Brooklyn</td>\n",
       "      <td>Clinton Hill</td>\n",
       "      <td>40.68514</td>\n",
       "      <td>-73.95976</td>\n",
       "      <td>Entire home/apt</td>\n",
       "      <td>89</td>\n",
       "      <td>1</td>\n",
       "      <td>270</td>\n",
       "      <td>2019-07-05</td>\n",
       "      <td>4.64</td>\n",
       "      <td>1</td>\n",
       "      <td>194</td>\n",
       "    </tr>\n",
       "    <tr>\n",
       "      <th>4</th>\n",
       "      <td>Manhattan</td>\n",
       "      <td>East Harlem</td>\n",
       "      <td>40.79851</td>\n",
       "      <td>-73.94399</td>\n",
       "      <td>Entire home/apt</td>\n",
       "      <td>80</td>\n",
       "      <td>10</td>\n",
       "      <td>9</td>\n",
       "      <td>2018-11-19</td>\n",
       "      <td>0.10</td>\n",
       "      <td>1</td>\n",
       "      <td>0</td>\n",
       "    </tr>\n",
       "  </tbody>\n",
       "</table>\n",
       "</div>"
      ],
      "text/plain": [
       "  neighbourhood_group neighbourhood  latitude  longitude        room_type  \\\n",
       "0            Brooklyn    Kensington  40.64749  -73.97237     Private room   \n",
       "1           Manhattan       Midtown  40.75362  -73.98377  Entire home/apt   \n",
       "2           Manhattan        Harlem  40.80902  -73.94190     Private room   \n",
       "3            Brooklyn  Clinton Hill  40.68514  -73.95976  Entire home/apt   \n",
       "4           Manhattan   East Harlem  40.79851  -73.94399  Entire home/apt   \n",
       "\n",
       "   price  minimum_nights  number_of_reviews last_review  reviews_per_month  \\\n",
       "0    149               1                  9  2018-10-19               0.21   \n",
       "1    225               1                 45  2019-05-21               0.38   \n",
       "2    150               3                  0         NaN                NaN   \n",
       "3     89               1                270  2019-07-05               4.64   \n",
       "4     80              10                  9  2018-11-19               0.10   \n",
       "\n",
       "   calculated_host_listings_count  availability_365  \n",
       "0                               6               365  \n",
       "1                               2               355  \n",
       "2                               1               365  \n",
       "3                               1               194  \n",
       "4                               1                 0  "
      ]
     },
     "execution_count": 9,
     "metadata": {},
     "output_type": "execute_result"
    }
   ],
   "source": [
    "df.drop([\"name\", \"id\", \"host_id\", \"host_name\"], inplace=True, axis=1)\n",
    "df.head()"
   ]
  },
  {
   "cell_type": "markdown",
   "id": "17a06b6a",
   "metadata": {},
   "source": [
    "## Aykırı Değer Tespiti\n",
    "\n",
    "- En basit ifadeyle, bir aykırı değer, diğer veri noktalarından oldukça uzakta bulunan/veya veri çerçevesinde görülen modelle tutarlı olmayan bir veridir.\n",
    "\n",
    "- Giriş hatalarından veya ölçüm hatalarından kaynaklanabilir veya hatta doğal bir aykırı değer olabilir.\n",
    "\n",
    "- Aykırı değerleri tespit etmek için kullanılan en yaygın yöntem görselleştirmedir ve yaygın olarak kabul edilen \"Aykırı değerler, ortalamadan üç veya daha fazla standart sapma uzaktadır\" ilkesi bize bir veri noktasının aykırı değer olduğuna dair ipuçları gösterir."
   ]
  },
  {
   "cell_type": "markdown",
   "id": "0c43a420",
   "metadata": {},
   "source": [
    "### Aykırı Değer Tespitinin Kahramanı: Z-Skoru\n",
    "\n",
    "- Z-skoru, belirli bir gözlemin ortalamadan kaç standart sapma uzakta olduğunu gösteren istatistiksel bir ölçümdür.\n",
    "\n",
    "- Her bir veri noktasının farklı bir Z puanı vardır, ancak veri kümesinin yalnızca tek bir ortalama ve tek bir standart sapma değeri vardır"
   ]
  },
  {
   "cell_type": "markdown",
   "id": "a3b73237",
   "metadata": {},
   "source": [
    "#### Atama\n",
    "Atama, eksik veya aykırı değerleri anlamlı verilerle doldurmaktır"
   ]
  },
  {
   "cell_type": "code",
   "execution_count": 14,
   "id": "92403351",
   "metadata": {},
   "outputs": [],
   "source": [
    "integers = [\"minimum_nights\",\"number_of_reviews\", \"calculated_host_listings_count\", \"availability_365\"]\n",
    "\n",
    "for column in integers:\n",
    "    \n",
    "    max_value = (3*df[column].std()) + df[column].mean()  \n",
    "    # Sütundaki değerlerin \"aykırı\" olarak adlandırılmayacak maksimum değerini hesaplamak için kullanılır.\n",
    "    min_value = -((3*df[column].std()) + df[column].mean()) \n",
    "    # Sütundaki değerlerin \"aykırı\" olarak adlandırılmayacak minimum değerini hesaplamak için kullanılır.\n",
    "\n",
    "    mean = df.loc[(df[column] > min_value) & (df[column] < max_value), column].mean()  \n",
    "    # koşulunu sağlayan değerlerin sütundaki yeni ortalaması hesaplanır. \n",
    "    # Bu işlem, aykırı değerleri dikkate almadan sütundaki değerlerin ortalama değerini bulmaya yöneliktir.\n",
    "\n",
    "    if mean is not np.nan:  \n",
    "        # Eğer ortalamada np.nan (sayısal olmayan) bir değer yoksa, aykırı değerlerin yerine ortalamayı koyar ve NaN değerleri de ortalamayla doldurur.\n",
    "        df.loc[(df[column] < min_value) | (df[column] > max_value), column] = mean \n",
    "        df[column].fillna(mean, inplace=True) \n",
    "    else: \n",
    "        # Eğer sütunda aykırı değer yoksa, yani ortalamada np.nan bir değer yoksa, sadece NaN değerleri ortalamayla doldurulur. \n",
    "        df[column].fillna(df[column].mean(), inplace=True)  \n",
    "\n",
    "    df[column] = df[column].astype(\"int64\")  "
   ]
  },
  {
   "cell_type": "code",
   "execution_count": 15,
   "id": "b30f0367",
   "metadata": {},
   "outputs": [
    {
     "data": {
      "text/plain": [
       "<Axes: xlabel='price', ylabel='Count'>"
      ]
     },
     "execution_count": 15,
     "metadata": {},
     "output_type": "execute_result"
    },
    {
     "data": {
      "image/png": "[encoded data removed]",
      "text/plain": [
       "<Figure size 2000x1000 with 1 Axes>"
      ]
     },
     "metadata": {},
     "output_type": "display_data"
    }
   ],
   "source": [
    "sns.histplot(df[\"price\"], kde=True, color=\"#ca1844\")"
   ]
  },
  {
   "cell_type": "code",
   "execution_count": 16,
   "id": "c5cb8f05",
   "metadata": {},
   "outputs": [],
   "source": [
    "floats = [\"price\", \"reviews_per_month\", \"calculated_host_listings_count\", \"latitude\", \"longitude\"]\n",
    "\n",
    "for column in floats:\n",
    "    df[column] = pd.to_numeric(df[column], errors=\"coerce\")\n",
    "  \n",
    "    max_value = (3*df[column].std()) + df[column].mean()  \n",
    "    min_value = -((3*df[column].std()) + df[column].mean())\n",
    "\n",
    "    mean = df.loc[(df[column] > min_value) & (df[column] < max_value), column].mean() \n",
    "\n",
    "    if mean is not np.nan:  \n",
    "        df.loc[(df[column] < min_value) | (df[column] > max_value), column] = mean \n",
    "        df[column].fillna(mean, inplace=True)  \n",
    "    else: \n",
    "        df[column].fillna(df[column].mean(), inplace=True) \n",
    "\n",
    "    df[column] = df[column].astype(\"float64\") "
   ]
  },
  {
   "cell_type": "code",
   "execution_count": 17,
   "id": "9406bf0e",
   "metadata": {},
   "outputs": [
    {
     "data": {
      "text/plain": [
       "<Axes: xlabel='price', ylabel='Count'>"
      ]
     },
     "execution_count": 17,
     "metadata": {},
     "output_type": "execute_result"
    },
    {
     "data": {
      "image/png": "[encoded data removed]",
      "text/plain": [
       "<Figure size 2000x1000 with 1 Axes>"
      ]
     },
     "metadata": {},
     "output_type": "display_data"
    }
   ],
   "source": [
    "sns.histplot(df[\"price\"], kde=True, color=\"#ca1844\")"
   ]
  },
  {
   "cell_type": "code",
   "execution_count": 29,
   "id": "3d9b81ba",
   "metadata": {},
   "outputs": [
    {
     "name": "stdout",
     "output_type": "stream",
     "text": [
      "<class 'pandas.core.frame.DataFrame'>\n",
      "RangeIndex: 48895 entries, 0 to 48894\n",
      "Data columns (total 12 columns):\n",
      " #   Column                          Non-Null Count  Dtype  \n",
      "---  ------                          --------------  -----  \n",
      " 0   neighbourhood_group             48895 non-null  object \n",
      " 1   neighbourhood                   48895 non-null  object \n",
      " 2   latitude                        48895 non-null  float64\n",
      " 3   longitude                       48895 non-null  float64\n",
      " 4   room_type                       48895 non-null  object \n",
      " 5   price                           48895 non-null  float64\n",
      " 6   minimum_nights                  48895 non-null  int64  \n",
      " 7   number_of_reviews               48895 non-null  int64  \n",
      " 8   last_review                     38843 non-null  object \n",
      " 9   reviews_per_month               48895 non-null  float64\n",
      " 10  calculated_host_listings_count  48895 non-null  float64\n",
      " 11  availability_365                48895 non-null  int64  \n",
      "dtypes: float64(5), int64(3), object(4)\n",
      "memory usage: 4.5+ MB\n"
     ]
    }
   ],
   "source": [
    "df.info()"
   ]
  },
  {
   "cell_type": "markdown",
   "id": "8eae8e6f",
   "metadata": {},
   "source": [
    "## Eksik kategorik değerleri işleme"
   ]
  },
  {
   "cell_type": "code",
   "execution_count": 19,
   "id": "8e199513",
   "metadata": {},
   "outputs": [
    {
     "data": {
      "text/plain": [
       "room_type        room_type      \n",
       "Entire home/apt  Entire home/apt    25409\n",
       "Private room     Private room       22326\n",
       "Shared room      Shared room         1160\n",
       "Name: room_type, dtype: int64"
      ]
     },
     "execution_count": 19,
     "metadata": {},
     "output_type": "execute_result"
    }
   ],
   "source": [
    "df.groupby(\"room_type\")[\"room_type\"].value_counts()"
   ]
  },
  {
   "cell_type": "code",
   "execution_count": 23,
   "id": "27b71682",
   "metadata": {},
   "outputs": [
    {
     "data": {
      "text/plain": [
       "room_type        room_type      \n",
       "Entire home/apt  Entire home/apt    25409\n",
       "Private room     Private room       22326\n",
       "Shared room      Shared room         1160\n",
       "Name: room_type, dtype: int64"
      ]
     },
     "execution_count": 23,
     "metadata": {},
     "output_type": "execute_result"
    }
   ],
   "source": [
    "for key, value in df.groupby(by=\"room_type\")[\"room_type\"].value_counts().items():\n",
    "    # df.groupby(by=\"room_type\")[\"room_type\"].value_counts() ifadesi, \"room_type\" sütunu üzerinde gruplama yaparak \n",
    "    # her bir değerin kaç kez tekrarlandığını sayar.\n",
    "    # Döngü, items() metodunu kullanarak gruplama sonuçlarını (key, value) çiftleri olarak döner.\n",
    "    if value == 1:\n",
    "        # Döngüde, eğer bir değerin tekrar sayısı (value) 1 ise, bu durum nadir görülen bir değeri temsil eder.\n",
    "        df.loc[df[\"room_type\"] == key[0], \"room_type\"] = \"unknown_type\"\n",
    "df.groupby(by=\"room_type\")[\"room_type\"].value_counts()        "
   ]
  },
  {
   "cell_type": "code",
   "execution_count": 24,
   "id": "94371d0e",
   "metadata": {},
   "outputs": [
    {
     "data": {
      "text/plain": [
       "neighbourhood_group                   0\n",
       "neighbourhood                         0\n",
       "latitude                              0\n",
       "longitude                             0\n",
       "room_type                             0\n",
       "price                                 0\n",
       "minimum_nights                        0\n",
       "number_of_reviews                     0\n",
       "last_review                       10052\n",
       "reviews_per_month                     0\n",
       "calculated_host_listings_count        0\n",
       "availability_365                      0\n",
       "dtype: int64"
      ]
     },
     "execution_count": 24,
     "metadata": {},
     "output_type": "execute_result"
    }
   ],
   "source": [
    "df.isna().sum()"
   ]
  },
  {
   "cell_type": "code",
   "execution_count": 30,
   "id": "c500496a",
   "metadata": {},
   "outputs": [],
   "source": [
    "df.loc[df.isna()[\"last_review\"], \"last_review\"] = \"unknown_date\""
   ]
  },
  {
   "cell_type": "code",
   "execution_count": 31,
   "id": "c55a326b",
   "metadata": {},
   "outputs": [
    {
     "data": {
      "text/plain": [
       "neighbourhood_group               0\n",
       "neighbourhood                     0\n",
       "latitude                          0\n",
       "longitude                         0\n",
       "room_type                         0\n",
       "price                             0\n",
       "minimum_nights                    0\n",
       "number_of_reviews                 0\n",
       "last_review                       0\n",
       "reviews_per_month                 0\n",
       "calculated_host_listings_count    0\n",
       "availability_365                  0\n",
       "dtype: int64"
      ]
     },
     "execution_count": 31,
     "metadata": {},
     "output_type": "execute_result"
    }
   ],
   "source": [
    "df.isna().sum()"
   ]
  },
  {
   "cell_type": "markdown",
   "id": "19573db3",
   "metadata": {},
   "source": [
    "## Dtype'ları dönüştürme"
   ]
  },
  {
   "cell_type": "code",
   "execution_count": 33,
   "id": "36ca0305",
   "metadata": {},
   "outputs": [
    {
     "data": {
      "text/plain": [
       "Index(['neighbourhood_group', 'neighbourhood', 'room_type', 'last_review'], dtype='object')"
      ]
     },
     "execution_count": 33,
     "metadata": {},
     "output_type": "execute_result"
    }
   ],
   "source": [
    "object_columns = df.select_dtypes(\"object\").columns\n",
    "object_columns"
   ]
  },
  {
   "cell_type": "code",
   "execution_count": 34,
   "id": "bc91558d",
   "metadata": {},
   "outputs": [],
   "source": [
    "for column in object_columns:\n",
    "    df[column] = df[column].astype(\"category\")"
   ]
  },
  {
   "cell_type": "code",
   "execution_count": 35,
   "id": "a5ccd326",
   "metadata": {},
   "outputs": [
    {
     "name": "stdout",
     "output_type": "stream",
     "text": [
      "<class 'pandas.core.frame.DataFrame'>\n",
      "RangeIndex: 48895 entries, 0 to 48894\n",
      "Data columns (total 12 columns):\n",
      " #   Column                          Non-Null Count  Dtype   \n",
      "---  ------                          --------------  -----   \n",
      " 0   neighbourhood_group             48895 non-null  category\n",
      " 1   neighbourhood                   48895 non-null  category\n",
      " 2   latitude                        48895 non-null  float64 \n",
      " 3   longitude                       48895 non-null  float64 \n",
      " 4   room_type                       48895 non-null  category\n",
      " 5   price                           48895 non-null  float64 \n",
      " 6   minimum_nights                  48895 non-null  int64   \n",
      " 7   number_of_reviews               48895 non-null  int64   \n",
      " 8   last_review                     48895 non-null  category\n",
      " 9   reviews_per_month               48895 non-null  float64 \n",
      " 10  calculated_host_listings_count  48895 non-null  float64 \n",
      " 11  availability_365                48895 non-null  int64   \n",
      "dtypes: category(4), float64(5), int64(3)\n",
      "memory usage: 3.4 MB\n"
     ]
    }
   ],
   "source": [
    "df.info()"
   ]
  },
  {
   "cell_type": "code",
   "execution_count": 36,
   "id": "52cd3761",
   "metadata": {},
   "outputs": [
    {
     "data": {
      "text/html": [
       "<div>\n",
       "<style scoped>\n",
       "    .dataframe tbody tr th:only-of-type {\n",
       "        vertical-align: middle;\n",
       "    }\n",
       "\n",
       "    .dataframe tbody tr th {\n",
       "        vertical-align: top;\n",
       "    }\n",
       "\n",
       "    .dataframe thead th {\n",
       "        text-align: right;\n",
       "    }\n",
       "</style>\n",
       "<table border=\"1\" class=\"dataframe\">\n",
       "  <thead>\n",
       "    <tr style=\"text-align: right;\">\n",
       "      <th></th>\n",
       "      <th>count</th>\n",
       "      <th>mean</th>\n",
       "      <th>std</th>\n",
       "      <th>min</th>\n",
       "      <th>25%</th>\n",
       "      <th>50%</th>\n",
       "      <th>75%</th>\n",
       "      <th>max</th>\n",
       "    </tr>\n",
       "  </thead>\n",
       "  <tbody>\n",
       "    <tr>\n",
       "      <th>latitude</th>\n",
       "      <td>48895.0</td>\n",
       "      <td>40.728754</td>\n",
       "      <td>0.054225</td>\n",
       "      <td>40.49979</td>\n",
       "      <td>40.69010</td>\n",
       "      <td>40.72307</td>\n",
       "      <td>40.762995</td>\n",
       "      <td>40.89245</td>\n",
       "    </tr>\n",
       "    <tr>\n",
       "      <th>longitude</th>\n",
       "      <td>48895.0</td>\n",
       "      <td>-73.952170</td>\n",
       "      <td>0.046157</td>\n",
       "      <td>-74.24442</td>\n",
       "      <td>-73.98307</td>\n",
       "      <td>-73.95568</td>\n",
       "      <td>-73.936275</td>\n",
       "      <td>-73.71299</td>\n",
       "    </tr>\n",
       "    <tr>\n",
       "      <th>price</th>\n",
       "      <td>48895.0</td>\n",
       "      <td>138.746903</td>\n",
       "      <td>107.130617</td>\n",
       "      <td>0.00000</td>\n",
       "      <td>69.00000</td>\n",
       "      <td>106.00000</td>\n",
       "      <td>175.000000</td>\n",
       "      <td>860.00000</td>\n",
       "    </tr>\n",
       "    <tr>\n",
       "      <th>minimum_nights</th>\n",
       "      <td>48895.0</td>\n",
       "      <td>5.570835</td>\n",
       "      <td>8.141238</td>\n",
       "      <td>1.00000</td>\n",
       "      <td>1.00000</td>\n",
       "      <td>3.00000</td>\n",
       "      <td>5.000000</td>\n",
       "      <td>30.00000</td>\n",
       "    </tr>\n",
       "    <tr>\n",
       "      <th>number_of_reviews</th>\n",
       "      <td>48895.0</td>\n",
       "      <td>12.279415</td>\n",
       "      <td>16.821715</td>\n",
       "      <td>0.00000</td>\n",
       "      <td>1.00000</td>\n",
       "      <td>5.00000</td>\n",
       "      <td>16.000000</td>\n",
       "      <td>79.00000</td>\n",
       "    </tr>\n",
       "    <tr>\n",
       "      <th>reviews_per_month</th>\n",
       "      <td>48895.0</td>\n",
       "      <td>1.262148</td>\n",
       "      <td>1.232741</td>\n",
       "      <td>0.01000</td>\n",
       "      <td>0.28000</td>\n",
       "      <td>1.22000</td>\n",
       "      <td>1.480000</td>\n",
       "      <td>6.41000</td>\n",
       "    </tr>\n",
       "    <tr>\n",
       "      <th>calculated_host_listings_count</th>\n",
       "      <td>48895.0</td>\n",
       "      <td>1.580153</td>\n",
       "      <td>1.115253</td>\n",
       "      <td>1.00000</td>\n",
       "      <td>1.00000</td>\n",
       "      <td>1.00000</td>\n",
       "      <td>2.000000</td>\n",
       "      <td>7.00000</td>\n",
       "    </tr>\n",
       "    <tr>\n",
       "      <th>availability_365</th>\n",
       "      <td>48895.0</td>\n",
       "      <td>112.781327</td>\n",
       "      <td>131.622289</td>\n",
       "      <td>0.00000</td>\n",
       "      <td>0.00000</td>\n",
       "      <td>45.00000</td>\n",
       "      <td>227.000000</td>\n",
       "      <td>365.00000</td>\n",
       "    </tr>\n",
       "  </tbody>\n",
       "</table>\n",
       "</div>"
      ],
      "text/plain": [
       "                                  count        mean         std       min  \\\n",
       "latitude                        48895.0   40.728754    0.054225  40.49979   \n",
       "longitude                       48895.0  -73.952170    0.046157 -74.24442   \n",
       "price                           48895.0  138.746903  107.130617   0.00000   \n",
       "minimum_nights                  48895.0    5.570835    8.141238   1.00000   \n",
       "number_of_reviews               48895.0   12.279415   16.821715   0.00000   \n",
       "reviews_per_month               48895.0    1.262148    1.232741   0.01000   \n",
       "calculated_host_listings_count  48895.0    1.580153    1.115253   1.00000   \n",
       "availability_365                48895.0  112.781327  131.622289   0.00000   \n",
       "\n",
       "                                     25%        50%         75%        max  \n",
       "latitude                        40.69010   40.72307   40.762995   40.89245  \n",
       "longitude                      -73.98307  -73.95568  -73.936275  -73.71299  \n",
       "price                           69.00000  106.00000  175.000000  860.00000  \n",
       "minimum_nights                   1.00000    3.00000    5.000000   30.00000  \n",
       "number_of_reviews                1.00000    5.00000   16.000000   79.00000  \n",
       "reviews_per_month                0.28000    1.22000    1.480000    6.41000  \n",
       "calculated_host_listings_count   1.00000    1.00000    2.000000    7.00000  \n",
       "availability_365                 0.00000   45.00000  227.000000  365.00000  "
      ]
     },
     "execution_count": 36,
     "metadata": {},
     "output_type": "execute_result"
    }
   ],
   "source": [
    "df.describe().T"
   ]
  },
  {
   "cell_type": "markdown",
   "id": "8a851ddd",
   "metadata": {},
   "source": [
    "### Pivot tablo\n",
    "\n",
    "- DataFrame olarak elektronik tablo stilinde bir pivot tablo oluşturur"
   ]
  },
  {
   "cell_type": "code",
   "execution_count": 37,
   "id": "d242284f",
   "metadata": {},
   "outputs": [
    {
     "data": {
      "text/html": [
       "<div>\n",
       "<style scoped>\n",
       "    .dataframe tbody tr th:only-of-type {\n",
       "        vertical-align: middle;\n",
       "    }\n",
       "\n",
       "    .dataframe tbody tr th {\n",
       "        vertical-align: top;\n",
       "    }\n",
       "\n",
       "    .dataframe thead th {\n",
       "        text-align: right;\n",
       "    }\n",
       "</style>\n",
       "<table border=\"1\" class=\"dataframe\">\n",
       "  <thead>\n",
       "    <tr style=\"text-align: right;\">\n",
       "      <th>room_type</th>\n",
       "      <th>Entire home/apt</th>\n",
       "      <th>Private room</th>\n",
       "      <th>Shared room</th>\n",
       "    </tr>\n",
       "  </thead>\n",
       "  <tbody>\n",
       "    <tr>\n",
       "      <th>availability_365</th>\n",
       "      <td>111.920304</td>\n",
       "      <td>111.203933</td>\n",
       "      <td>162.000862</td>\n",
       "    </tr>\n",
       "    <tr>\n",
       "      <th>number_of_reviews</th>\n",
       "      <td>12.216852</td>\n",
       "      <td>12.451805</td>\n",
       "      <td>10.331897</td>\n",
       "    </tr>\n",
       "    <tr>\n",
       "      <th>price</th>\n",
       "      <td>190.404829</td>\n",
       "      <td>83.722141</td>\n",
       "      <td>66.252576</td>\n",
       "    </tr>\n",
       "  </tbody>\n",
       "</table>\n",
       "</div>"
      ],
      "text/plain": [
       "room_type          Entire home/apt  Private room  Shared room\n",
       "availability_365        111.920304    111.203933   162.000862\n",
       "number_of_reviews        12.216852     12.451805    10.331897\n",
       "price                   190.404829     83.722141    66.252576"
      ]
     },
     "execution_count": 37,
     "metadata": {},
     "output_type": "execute_result"
    }
   ],
   "source": [
    "df.pivot_table(values=[\"number_of_reviews\", \"availability_365\", \"price\"],\n",
    "               columns=\"room_type\",\n",
    "               aggfunc=np.mean)"
   ]
  }
 ],
 "metadata": {
  "kernelspec": {
   "display_name": "Python 3 (ipykernel)",
   "language": "python",
   "name": "python3"
  },
  "language_info": {
   "codemirror_mode": {
    "name": "ipython",
    "version": 3
   },
   "file_extension": ".py",
   "mimetype": "text/x-python",
   "name": "python",
   "nbconvert_exporter": "python",
   "pygments_lexer": "ipython3",
   "version": "3.10.9"
  }
 },
 "nbformat": 4,
 "nbformat_minor": 5
}
